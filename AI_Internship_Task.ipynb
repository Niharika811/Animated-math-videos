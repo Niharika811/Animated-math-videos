{
  "nbformat": 4,
  "nbformat_minor": 0,
  "metadata": {
    "colab": {
      "provenance": []
    },
    "kernelspec": {
      "name": "python3",
      "display_name": "Python 3"
    },
    "language_info": {
      "name": "python"
    }
  },
  "cells": [
    {
      "cell_type": "code",
      "execution_count": 1,
      "metadata": {
        "colab": {
          "base_uri": "https://localhost:8080/"
        },
        "id": "_kpXYyNtmoKE",
        "outputId": "4c5b93ab-8ff4-4b5b-bf24-7d769ceb80e0"
      },
      "outputs": [
        {
          "output_type": "stream",
          "name": "stdout",
          "text": [
            "Requirement already satisfied: moviepy in /usr/local/lib/python3.11/dist-packages (1.0.3)\n",
            "Collecting gtts\n",
            "  Downloading gTTS-2.5.4-py3-none-any.whl.metadata (4.1 kB)\n",
            "Requirement already satisfied: pillow in /usr/local/lib/python3.11/dist-packages (11.1.0)\n",
            "Requirement already satisfied: decorator<5.0,>=4.0.2 in /usr/local/lib/python3.11/dist-packages (from moviepy) (4.4.2)\n",
            "Requirement already satisfied: tqdm<5.0,>=4.11.2 in /usr/local/lib/python3.11/dist-packages (from moviepy) (4.67.1)\n",
            "Requirement already satisfied: requests<3.0,>=2.8.1 in /usr/local/lib/python3.11/dist-packages (from moviepy) (2.32.3)\n",
            "Requirement already satisfied: proglog<=1.0.0 in /usr/local/lib/python3.11/dist-packages (from moviepy) (0.1.11)\n",
            "Requirement already satisfied: numpy>=1.17.3 in /usr/local/lib/python3.11/dist-packages (from moviepy) (2.0.2)\n",
            "Requirement already satisfied: imageio<3.0,>=2.5 in /usr/local/lib/python3.11/dist-packages (from moviepy) (2.37.0)\n",
            "Requirement already satisfied: imageio-ffmpeg>=0.2.0 in /usr/local/lib/python3.11/dist-packages (from moviepy) (0.6.0)\n",
            "Requirement already satisfied: click<8.2,>=7.1 in /usr/local/lib/python3.11/dist-packages (from gtts) (8.1.8)\n",
            "Requirement already satisfied: charset-normalizer<4,>=2 in /usr/local/lib/python3.11/dist-packages (from requests<3.0,>=2.8.1->moviepy) (3.4.1)\n",
            "Requirement already satisfied: idna<4,>=2.5 in /usr/local/lib/python3.11/dist-packages (from requests<3.0,>=2.8.1->moviepy) (3.10)\n",
            "Requirement already satisfied: urllib3<3,>=1.21.1 in /usr/local/lib/python3.11/dist-packages (from requests<3.0,>=2.8.1->moviepy) (2.3.0)\n",
            "Requirement already satisfied: certifi>=2017.4.17 in /usr/local/lib/python3.11/dist-packages (from requests<3.0,>=2.8.1->moviepy) (2025.1.31)\n",
            "Downloading gTTS-2.5.4-py3-none-any.whl (29 kB)\n",
            "Installing collected packages: gtts\n",
            "Successfully installed gtts-2.5.4\n"
          ]
        }
      ],
      "source": [
        "pip install moviepy gtts pillow\n"
      ]
    },
    {
      "cell_type": "code",
      "source": [
        "import os\n",
        "from PIL import Image, ImageDraw, ImageFont\n",
        "from moviepy.editor import ImageSequenceClip, AudioFileClip\n",
        "from gtts import gTTS\n",
        "\n",
        "# Create output folders\n",
        "os.makedirs(\"frames\", exist_ok=True)\n",
        "os.makedirs(\"videos\", exist_ok=True)\n",
        "\n",
        "def create_equation_video(equation_steps, final_equation, video_name, voice_text=None):\n",
        "    # Generate frames\n",
        "    frame_paths = []\n",
        "    for i, step in enumerate(equation_steps):\n",
        "        img = Image.new(\"RGB\", (640, 480), (255, 255, 255))\n",
        "        draw = ImageDraw.Draw(img)\n",
        "\n",
        "        try:\n",
        "            font = ImageFont.truetype(\"arial.ttf\", 60)\n",
        "        except:\n",
        "            font = ImageFont.load_default()\n",
        "\n",
        "        # Updated code to replace deprecated textsize()\n",
        "        bbox = draw.textbbox((0, 0), step, font=font)\n",
        "        w = bbox[2] - bbox[0]\n",
        "        h = bbox[3] - bbox[1]\n",
        "\n",
        "        draw.text(((640 - w) / 2, (480 - h) / 2), step, fill=\"black\", font=font)\n",
        "\n",
        "        frame_path = f\"frames/{video_name}_frame_{i}.png\"\n",
        "        img.save(frame_path)\n",
        "        frame_paths.append(frame_path)\n",
        "\n",
        "    # Create video clip from frames\n",
        "    clip = ImageSequenceClip(frame_paths, fps=1)\n",
        "\n",
        "    # Add voiceover (optional)\n",
        "    if voice_text:\n",
        "        tts = gTTS(voice_text)\n",
        "        audio_path = f\"videos/{video_name}_audio.mp3\"\n",
        "        tts.save(audio_path)\n",
        "        audio = AudioFileClip(audio_path)\n",
        "        clip = clip.set_audio(audio)\n",
        "\n",
        "    # Export video\n",
        "    output_path = f\"videos/{video_name}.mp4\"\n",
        "    clip.write_videofile(output_path, fps=1)\n",
        "\n",
        "\n",
        "# 1. Addition Video\n",
        "create_equation_video(\n",
        "    equation_steps=[\"1\", \"1 +\", \"1 + 2\", \"1 + 2 =\", \"1 + 2 = 3\"],\n",
        "    final_equation=\"1 + 2 = 3\",\n",
        "    video_name=\"add\",\n",
        "    voice_text=\"One plus two equals three\"\n",
        ")\n",
        "\n",
        "# 2. Subtraction Video\n",
        "create_equation_video(\n",
        "    equation_steps=[\"5\", \"5 -\", \"5 - 3\", \"5 - 3 =\", \"5 - 3 = 2\"],\n",
        "    final_equation=\"5 - 3 = 2\",\n",
        "    video_name=\"sub\",\n",
        "    voice_text=\"Five minus three equals two\"\n",
        ")\n",
        "\n",
        "# 3. Multiplication Video\n",
        "create_equation_video(\n",
        "    equation_steps=[\"9 × 8 =\", \"9 × 8 = 72\"],\n",
        "    final_equation=\"9 × 8 = 72\",\n",
        "    video_name=\"mul\",\n",
        "    voice_text=\"Nine times eight equals seventy-two\"\n",
        ")\n"
      ],
      "metadata": {
        "colab": {
          "base_uri": "https://localhost:8080/"
        },
        "id": "QxuMe6NXm0In",
        "outputId": "066f7a4e-d933-4caf-bf98-9f765910ee78"
      },
      "execution_count": 3,
      "outputs": [
        {
          "output_type": "stream",
          "name": "stdout",
          "text": [
            "Moviepy - Building video videos/add.mp4.\n",
            "MoviePy - Writing audio in addTEMP_MPY_wvf_snd.mp3\n"
          ]
        },
        {
          "output_type": "stream",
          "name": "stderr",
          "text": []
        },
        {
          "output_type": "stream",
          "name": "stdout",
          "text": [
            "MoviePy - Done.\n",
            "Moviepy - Writing video videos/add.mp4\n",
            "\n"
          ]
        },
        {
          "output_type": "stream",
          "name": "stderr",
          "text": [
            "                                                  "
          ]
        },
        {
          "output_type": "stream",
          "name": "stdout",
          "text": [
            "Moviepy - Done !\n",
            "Moviepy - video ready videos/add.mp4\n"
          ]
        },
        {
          "output_type": "stream",
          "name": "stderr",
          "text": [
            "\r"
          ]
        },
        {
          "output_type": "stream",
          "name": "stdout",
          "text": [
            "Moviepy - Building video videos/sub.mp4.\n",
            "MoviePy - Writing audio in subTEMP_MPY_wvf_snd.mp3\n"
          ]
        },
        {
          "output_type": "stream",
          "name": "stderr",
          "text": []
        },
        {
          "output_type": "stream",
          "name": "stdout",
          "text": [
            "MoviePy - Done.\n",
            "Moviepy - Writing video videos/sub.mp4\n",
            "\n"
          ]
        },
        {
          "output_type": "stream",
          "name": "stderr",
          "text": [
            "                                                  "
          ]
        },
        {
          "output_type": "stream",
          "name": "stdout",
          "text": [
            "Moviepy - Done !\n",
            "Moviepy - video ready videos/sub.mp4\n"
          ]
        },
        {
          "output_type": "stream",
          "name": "stderr",
          "text": [
            "\r"
          ]
        },
        {
          "output_type": "stream",
          "name": "stdout",
          "text": [
            "Moviepy - Building video videos/mul.mp4.\n",
            "MoviePy - Writing audio in mulTEMP_MPY_wvf_snd.mp3\n"
          ]
        },
        {
          "output_type": "stream",
          "name": "stderr",
          "text": []
        },
        {
          "output_type": "stream",
          "name": "stdout",
          "text": [
            "MoviePy - Done.\n",
            "Moviepy - Writing video videos/mul.mp4\n",
            "\n"
          ]
        },
        {
          "output_type": "stream",
          "name": "stderr",
          "text": [
            "                                                  "
          ]
        },
        {
          "output_type": "stream",
          "name": "stdout",
          "text": [
            "Moviepy - Done !\n",
            "Moviepy - video ready videos/mul.mp4\n"
          ]
        },
        {
          "output_type": "stream",
          "name": "stderr",
          "text": [
            "\r"
          ]
        }
      ]
    }
  ]
}